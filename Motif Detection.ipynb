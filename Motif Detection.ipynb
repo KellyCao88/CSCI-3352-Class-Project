{
 "cells": [
  {
   "cell_type": "code",
   "execution_count": 1,
   "id": "d6e8ef3a",
   "metadata": {},
   "outputs": [],
   "source": [
    "import networkx as nx\n",
    "import matplotlib.pyplot as plt\n",
    "import igraph as ig"
   ]
  },
  {
   "cell_type": "markdown",
   "id": "ff76b4cd",
   "metadata": {},
   "source": [
    "## Setup"
   ]
  },
  {
   "cell_type": "code",
   "execution_count": 2,
   "id": "2ae652bc",
   "metadata": {},
   "outputs": [
    {
     "name": "stdout",
     "output_type": "stream",
     "text": [
      "reading the network file : celegans_connectome_multiplex.edges\n",
      "\n",
      "MultiGraph with 253 nodes and 1031 edges\n",
      "MultiGraph with 260 nodes and 1639 edges\n",
      "MultiGraph with 278 nodes and 3193 edges\n"
     ]
    }
   ],
   "source": [
    "# Create a dict of edges\n",
    "fname3 = 'celegans_connectome_multiplex.edges'\n",
    "print(f'reading the network file : {fname3}\\n')\n",
    "f = open('./' + fname3, 'r')\n",
    "\n",
    "edges1 = {}\n",
    "edges2 = {}\n",
    "edges3 = {}\n",
    "counter1 = 0\n",
    "counter2 = 0\n",
    "counter3 = 0\n",
    "\n",
    "for line in f:\n",
    "    layer, node1, node2, w = map(int, line.strip().split(' '))\n",
    "    if layer == 1:\n",
    "        edges1[counter1] = node1, node2\n",
    "        counter1 += 1\n",
    "        #print(1)\n",
    "    if layer == 2:\n",
    "        edges2[counter2] = node1, node2\n",
    "        counter2 += 1\n",
    "        #print(2)\n",
    "    if layer == 3:\n",
    "        edges3[counter3] = node1, node2\n",
    "        counter3 += 1\n",
    "        #print(3)\n",
    "\n",
    "# create new edges from the dictionary\n",
    "new_edges1 = []\n",
    "for idx, e in edges1.items():\n",
    "    new_edges1.append(e)\n",
    "new_edges2 = []\n",
    "for idx, e in edges2.items():\n",
    "    new_edges2.append(e)\n",
    "new_edges3 = []\n",
    "for idx, e in edges3.items():\n",
    "    new_edges3.append(e)\n",
    "G1 = nx.MultiGraph(new_edges1)\n",
    "G2 = nx.MultiGraph(new_edges2)\n",
    "G3 = nx.MultiGraph(new_edges3)\n",
    "print(G1)\n",
    "print(G2)\n",
    "print(G3)"
   ]
  },
  {
   "cell_type": "code",
   "execution_count": 4,
   "id": "5ace5989",
   "metadata": {},
   "outputs": [],
   "source": [
    "def count_motifs(g, motif_s):\n",
    "    # Find motifs of size motif_s in the graph layer in g\n",
    "    motif_count = []\n",
    "    for layer_g in g:\n",
    "        c =  layer_g.motifs_randesu_no(size=motif_s)\n",
    "        motif_count.append(c)\n",
    "    return(motif_count)"
   ]
  },
  {
   "cell_type": "code",
   "execution_count": 5,
   "id": "62f5c917",
   "metadata": {},
   "outputs": [
    {
     "name": "stdout",
     "output_type": "stream",
     "text": [
      "Number of size 3 motifs in Layer 1 : 3632\n",
      "Number of size 3 motifs in Layer 2 : 9046\n",
      "Number of size 3 motifs in Layer 3 : 28816\n",
      "Number of size 3 motifs in all layers: 48874\n"
     ]
    }
   ],
   "source": [
    "# Define the edges for each layer\n",
    "G1_edges = new_edges1\n",
    "G2_edges = new_edges2\n",
    "G3_edges = new_edges3\n",
    "\n",
    "# Combine all edges into a single list\n",
    "all_edges = G1_edges + G2_edges + G3_edges\n",
    "\n",
    "# Create Graph object for the combined graph\n",
    "combined_graph = ig.Graph.TupleList(all_edges, directed=False)\n",
    "\n",
    "# Create Graph objects for each layer\n",
    "layer1_graph = ig.Graph.TupleList(G1_edges, directed=False)\n",
    "layer2_graph = ig.Graph.TupleList(G2_edges, directed=False)\n",
    "layer3_graph = ig.Graph.TupleList(G3_edges, directed=False)\n",
    "\n",
    "\n",
    "# Find motifs of size three in each layer\n",
    "layer_graph = [layer1_graph, layer2_graph, layer3_graph, combined_graph]\n",
    "motif_count_arr = count_motifs(layer_graph, 3)\n",
    "\n",
    "for i in range(len(motif_count_arr)):\n",
    "    if i < 3:\n",
    "        print(\"Number of size 3 motifs in Layer\", i+1, \":\", motif_count_arr[i])\n",
    "    else:\n",
    "        print(\"Number of size 3 motifs in all layers:\", motif_count_arr[i])"
   ]
  },
  {
   "cell_type": "code",
   "execution_count": 6,
   "id": "48cd112e",
   "metadata": {},
   "outputs": [
    {
     "name": "stdout",
     "output_type": "stream",
     "text": [
      "Number of size 4 motifs in Layer 1 : 37282\n",
      "Number of size 4 motifs in Layer 2 : 124525\n",
      "Number of size 4 motifs in Layer 3 : 642427\n",
      "Number of size 4 motifs in all layers: 1337458\n"
     ]
    }
   ],
   "source": [
    "# Find motifs of size three in each layer\n",
    "motif_count_arr = count_motifs(layer_graph, 4)\n",
    "\n",
    "for i in range(len(motif_count_arr)):\n",
    "    if i < 3:\n",
    "        print(\"Number of size 4 motifs in Layer\", i+1, \":\", motif_count_arr[i])\n",
    "    else:\n",
    "        print(\"Number of size 4 motifs in all layers:\", motif_count_arr[i])"
   ]
  },
  {
   "cell_type": "code",
   "execution_count": 7,
   "id": "46ffa346",
   "metadata": {},
   "outputs": [
    {
     "name": "stdout",
     "output_type": "stream",
     "text": [
      "Number of size 5 motifs in Layer 1 : 394560\n",
      "Number of size 5 motifs in Layer 2 : 1858416\n",
      "Number of size 5 motifs in Layer 3 : 15182446\n",
      "Number of size 5 motifs in all layers: 38090978\n"
     ]
    }
   ],
   "source": [
    "# Find motifs of size three in each layer\n",
    "motif_count_arr = count_motifs(layer_graph, 5)\n",
    "\n",
    "for i in range(len(motif_count_arr)):\n",
    "    if i < 3:\n",
    "        print(\"Number of size 5 motifs in Layer\", i+1, \":\", motif_count_arr[i])\n",
    "    else:\n",
    "        print(\"Number of size 5 motifs in all layers:\", motif_count_arr[i])"
   ]
  },
  {
   "cell_type": "code",
   "execution_count": 8,
   "id": "1d289b17",
   "metadata": {},
   "outputs": [
    {
     "name": "stdout",
     "output_type": "stream",
     "text": [
      "Number of size 6 motifs in Layer 1 : 4086382\n",
      "Number of size 6 motifs in Layer 2 : 27857106\n",
      "Number of size 6 motifs in Layer 3 : 353400386\n",
      "Number of size 6 motifs in all layers: 1057086017\n"
     ]
    }
   ],
   "source": [
    "# Find motifs of size three in each layer\n",
    "motif_count_arr = count_motifs(layer_graph, 6)\n",
    "\n",
    "for i in range(len(motif_count_arr)):\n",
    "    if i < 3:\n",
    "        print(\"Number of size 6 motifs in Layer\", i+1, \":\", motif_count_arr[i])\n",
    "    else:\n",
    "        print(\"Number of size 6 motifs in all layers:\", motif_count_arr[i])"
   ]
  }
 ],
 "metadata": {
  "kernelspec": {
   "display_name": "Python 3 (ipykernel)",
   "language": "python",
   "name": "python3"
  },
  "language_info": {
   "codemirror_mode": {
    "name": "ipython",
    "version": 3
   },
   "file_extension": ".py",
   "mimetype": "text/x-python",
   "name": "python",
   "nbconvert_exporter": "python",
   "pygments_lexer": "ipython3",
   "version": "3.11.4"
  }
 },
 "nbformat": 4,
 "nbformat_minor": 5
}
